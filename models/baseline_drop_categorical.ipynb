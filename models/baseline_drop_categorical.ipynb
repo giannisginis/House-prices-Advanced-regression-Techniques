{
 "cells": [
  {
   "cell_type": "code",
   "execution_count": 1,
   "metadata": {},
   "outputs": [
    {
     "data": {
      "text/plain": [
       "(1460, 81)"
      ]
     },
     "execution_count": 1,
     "metadata": {},
     "output_type": "execute_result"
    }
   ],
   "source": [
    "import pandas as pd\n",
    "import numpy as np\n",
    "import matplotlib.pyplot as plt\n",
    "import seaborn as sns\n",
    "%matplotlib inline\n",
    "import pandas as pd\n",
    "import os\n",
    "\n",
    "os.getcwd()\n",
    "\n",
    "data =  pd.read_csv('train.csv')\n",
    "\n",
    "data.shape"
   ]
  },
  {
   "cell_type": "code",
   "execution_count": 4,
   "metadata": {},
   "outputs": [
    {
     "data": {
      "text/plain": [
       "Index([u'MSZoning', u'Street', u'Alley', u'LotShape', u'LandContour',\n",
       "       u'Utilities', u'LotConfig', u'LandSlope', u'Neighborhood',\n",
       "       u'Condition1', u'Condition2', u'BldgType', u'HouseStyle', u'RoofStyle',\n",
       "       u'RoofMatl', u'Exterior1st', u'Exterior2nd', u'MasVnrType',\n",
       "       u'ExterQual', u'ExterCond', u'Foundation', u'BsmtQual', u'BsmtCond',\n",
       "       u'BsmtExposure', u'BsmtFinType1', u'BsmtFinType2', u'Heating',\n",
       "       u'HeatingQC', u'CentralAir', u'Electrical', u'KitchenQual',\n",
       "       u'Functional', u'FireplaceQu', u'GarageType', u'GarageFinish',\n",
       "       u'GarageQual', u'GarageCond', u'PavedDrive', u'PoolQC', u'Fence',\n",
       "       u'MiscFeature', u'SaleType', u'SaleCondition'],\n",
       "      dtype='object')"
      ]
     },
     "execution_count": 4,
     "metadata": {},
     "output_type": "execute_result"
    }
   ],
   "source": [
    "##find all columns with type object\n",
    "\n",
    "obj_df = data.select_dtypes(include=['object']).copy().keys()\n",
    "\n",
    "obj_df\n"
   ]
  },
  {
   "cell_type": "code",
   "execution_count": 5,
   "metadata": {},
   "outputs": [
    {
     "data": {
      "text/plain": [
       "(1460, 38)"
      ]
     },
     "execution_count": 5,
     "metadata": {},
     "output_type": "execute_result"
    }
   ],
   "source": [
    "##drop all categorical columns\n",
    "\n",
    "cols=['MSZoning','Street','Alley','LotShape','LandContour',\n",
    "                        'Utilities','LotConfig','LandSlope','Neighborhood',\n",
    "                        'Condition1','Condition2','BldgType','HouseStyle','RoofStyle',\n",
    "                        'RoofMatl','Exterior1st','Exterior2nd','MasVnrType',\n",
    "                        'ExterQual','ExterCond','Foundation','BsmtQual','BsmtCond',\n",
    "                        'BsmtExposure','BsmtFinType1','BsmtFinType2','Heating',\n",
    "                        'HeatingQC','CentralAir','Electrical','KitchenQual',\n",
    "                        'Functional','FireplaceQu','GarageType','GarageFinish',\n",
    "                        'GarageQual','GarageCond','PavedDrive','PoolQC','Fence',\n",
    "                        'MiscFeature','SaleType','SaleCondition']\n",
    "\n",
    "for i in range(len(cols)):\n",
    "    data.drop(cols[i], axis=1, inplace=True)\n",
    "    \n",
    "data.shape"
   ]
  },
  {
   "cell_type": "code",
   "execution_count": 6,
   "metadata": {},
   "outputs": [
    {
     "data": {
      "text/html": [
       "<div>\n",
       "<style scoped>\n",
       "    .dataframe tbody tr th:only-of-type {\n",
       "        vertical-align: middle;\n",
       "    }\n",
       "\n",
       "    .dataframe tbody tr th {\n",
       "        vertical-align: top;\n",
       "    }\n",
       "\n",
       "    .dataframe thead th {\n",
       "        text-align: right;\n",
       "    }\n",
       "</style>\n",
       "<table border=\"1\" class=\"dataframe\">\n",
       "  <thead>\n",
       "    <tr style=\"text-align: right;\">\n",
       "      <th></th>\n",
       "      <th>Total</th>\n",
       "      <th>Percent</th>\n",
       "    </tr>\n",
       "  </thead>\n",
       "  <tbody>\n",
       "    <tr>\n",
       "      <th>LotFrontage</th>\n",
       "      <td>259</td>\n",
       "      <td>17.739726</td>\n",
       "    </tr>\n",
       "    <tr>\n",
       "      <th>GarageYrBlt</th>\n",
       "      <td>81</td>\n",
       "      <td>5.547945</td>\n",
       "    </tr>\n",
       "    <tr>\n",
       "      <th>MasVnrArea</th>\n",
       "      <td>8</td>\n",
       "      <td>0.547945</td>\n",
       "    </tr>\n",
       "    <tr>\n",
       "      <th>BsmtFinSF1</th>\n",
       "      <td>0</td>\n",
       "      <td>0.000000</td>\n",
       "    </tr>\n",
       "    <tr>\n",
       "      <th>LowQualFinSF</th>\n",
       "      <td>0</td>\n",
       "      <td>0.000000</td>\n",
       "    </tr>\n",
       "    <tr>\n",
       "      <th>2ndFlrSF</th>\n",
       "      <td>0</td>\n",
       "      <td>0.000000</td>\n",
       "    </tr>\n",
       "    <tr>\n",
       "      <th>1stFlrSF</th>\n",
       "      <td>0</td>\n",
       "      <td>0.000000</td>\n",
       "    </tr>\n",
       "    <tr>\n",
       "      <th>TotalBsmtSF</th>\n",
       "      <td>0</td>\n",
       "      <td>0.000000</td>\n",
       "    </tr>\n",
       "    <tr>\n",
       "      <th>BsmtUnfSF</th>\n",
       "      <td>0</td>\n",
       "      <td>0.000000</td>\n",
       "    </tr>\n",
       "    <tr>\n",
       "      <th>BsmtFinSF2</th>\n",
       "      <td>0</td>\n",
       "      <td>0.000000</td>\n",
       "    </tr>\n",
       "    <tr>\n",
       "      <th>SalePrice</th>\n",
       "      <td>0</td>\n",
       "      <td>0.000000</td>\n",
       "    </tr>\n",
       "    <tr>\n",
       "      <th>BsmtFullBath</th>\n",
       "      <td>0</td>\n",
       "      <td>0.000000</td>\n",
       "    </tr>\n",
       "    <tr>\n",
       "      <th>YearRemodAdd</th>\n",
       "      <td>0</td>\n",
       "      <td>0.000000</td>\n",
       "    </tr>\n",
       "    <tr>\n",
       "      <th>YearBuilt</th>\n",
       "      <td>0</td>\n",
       "      <td>0.000000</td>\n",
       "    </tr>\n",
       "    <tr>\n",
       "      <th>OverallCond</th>\n",
       "      <td>0</td>\n",
       "      <td>0.000000</td>\n",
       "    </tr>\n",
       "    <tr>\n",
       "      <th>OverallQual</th>\n",
       "      <td>0</td>\n",
       "      <td>0.000000</td>\n",
       "    </tr>\n",
       "    <tr>\n",
       "      <th>LotArea</th>\n",
       "      <td>0</td>\n",
       "      <td>0.000000</td>\n",
       "    </tr>\n",
       "    <tr>\n",
       "      <th>MSSubClass</th>\n",
       "      <td>0</td>\n",
       "      <td>0.000000</td>\n",
       "    </tr>\n",
       "    <tr>\n",
       "      <th>GrLivArea</th>\n",
       "      <td>0</td>\n",
       "      <td>0.000000</td>\n",
       "    </tr>\n",
       "    <tr>\n",
       "      <th>BsmtHalfBath</th>\n",
       "      <td>0</td>\n",
       "      <td>0.000000</td>\n",
       "    </tr>\n",
       "  </tbody>\n",
       "</table>\n",
       "</div>"
      ],
      "text/plain": [
       "              Total    Percent\n",
       "LotFrontage     259  17.739726\n",
       "GarageYrBlt      81   5.547945\n",
       "MasVnrArea        8   0.547945\n",
       "BsmtFinSF1        0   0.000000\n",
       "LowQualFinSF      0   0.000000\n",
       "2ndFlrSF          0   0.000000\n",
       "1stFlrSF          0   0.000000\n",
       "TotalBsmtSF       0   0.000000\n",
       "BsmtUnfSF         0   0.000000\n",
       "BsmtFinSF2        0   0.000000\n",
       "SalePrice         0   0.000000\n",
       "BsmtFullBath      0   0.000000\n",
       "YearRemodAdd      0   0.000000\n",
       "YearBuilt         0   0.000000\n",
       "OverallCond       0   0.000000\n",
       "OverallQual       0   0.000000\n",
       "LotArea           0   0.000000\n",
       "MSSubClass        0   0.000000\n",
       "GrLivArea         0   0.000000\n",
       "BsmtHalfBath      0   0.000000"
      ]
     },
     "execution_count": 6,
     "metadata": {},
     "output_type": "execute_result"
    }
   ],
   "source": [
    "##check for NaN values\n",
    "\n",
    "total = data.isnull().sum().sort_values(ascending=False)\n",
    "percent = 100*(data.isnull().sum()/data.isnull().count()).sort_values(ascending=False)\n",
    "missing_data = pd.concat([total, percent], axis=1, keys=['Total', 'Percent'])\n",
    "missing_data.head(20)"
   ]
  },
  {
   "cell_type": "code",
   "execution_count": 7,
   "metadata": {},
   "outputs": [],
   "source": [
    "## drop columns with NaN values\n",
    "\n",
    "col = ['LotFrontage','GarageYrBlt','MasVnrArea']\n",
    "\n",
    "for i in range(len(col)):\n",
    "    data.drop(col[i], axis=1, inplace=True)\n",
    "\n"
   ]
  },
  {
   "cell_type": "code",
   "execution_count": 8,
   "metadata": {},
   "outputs": [
    {
     "data": {
      "text/plain": [
       "(1460, 35)"
      ]
     },
     "execution_count": 8,
     "metadata": {},
     "output_type": "execute_result"
    }
   ],
   "source": [
    "data.shape"
   ]
  },
  {
   "cell_type": "code",
   "execution_count": 9,
   "metadata": {},
   "outputs": [],
   "source": [
    "#split train and test set\n",
    "\n",
    "from sklearn.model_selection import train_test_split\n",
    "\n",
    "y=data['SalePrice']\n",
    "\n",
    "X=data.drop('SalePrice', axis=1)\n",
    "\n",
    "X_train,X_test ,y_train,y_test= train_test_split(X,y,test_size=0.25,random_state=5)"
   ]
  },
  {
   "cell_type": "code",
   "execution_count": 10,
   "metadata": {},
   "outputs": [
    {
     "name": "stdout",
     "output_type": "stream",
     "text": [
      "((1095, 34), (1095L,))\n",
      "((365, 34), (365L,))\n"
     ]
    }
   ],
   "source": [
    "#shape of X and y and train and test sets\n",
    "print(X_train.shape,y_train.shape)\n",
    "\n",
    "print(X_test.shape,y_test.shape)"
   ]
  },
  {
   "cell_type": "code",
   "execution_count": 11,
   "metadata": {},
   "outputs": [],
   "source": [
    "import math\n",
    "\n",
    "#A function to calculate Root Mean Squared Logarithmic Error (RMSLE)\n",
    "def rmsle(y_pred, y_test) : \n",
    "    assert len(y_test) == len(y_pred)\n",
    "    return np.sqrt(np.mean((np.log(1+y_pred) - np.log(1+y_test))**2))\n",
    "\n"
   ]
  },
  {
   "cell_type": "code",
   "execution_count": 12,
   "metadata": {},
   "outputs": [
    {
     "name": "stderr",
     "output_type": "stream",
     "text": [
      "C:\\Users\\maria\\Anaconda2\\lib\\site-packages\\ipykernel_launcher.py:6: RuntimeWarning: invalid value encountered in log\n",
      "  \n"
     ]
    },
    {
     "name": "stdout",
     "output_type": "stream",
     "text": [
      "('LR:', 0.1941078993444466)\n",
      "('SVR:', 0.40764451335102303)\n",
      "('Decision Tree:', 0.21123528359650748)\n",
      "('NN:', 0.19878175769801112)\n",
      "('KNN:', 0.23163294727640638)\n",
      "('Random Forest:', 0.27234668354748)\n"
     ]
    }
   ],
   "source": [
    "#predict with different models\n",
    "\n",
    "from sklearn.tree import DecisionTreeRegressor\n",
    "from sklearn.svm import SVR\n",
    "from sklearn import linear_model\n",
    "from sklearn.neighbors import KNeighborsRegressor\n",
    "from sklearn.metrics import accuracy_score, mean_squared_error\n",
    "from sklearn.ensemble import RandomForestRegressor\n",
    "from sklearn.neural_network import MLPRegressor\n",
    "from math import sqrt\n",
    "\n",
    "\n",
    "#LR\n",
    "reg =linear_model.LinearRegression()\n",
    "reg.fit(X_train, y_train)\n",
    "pred_LR = reg.predict(X_test)\n",
    "print(\"LR:\", rmsle(pred_LR,y_test))\n",
    "\n",
    "# SVM\n",
    "svc=SVR(C=1.0, epsilon=0.2)\n",
    "svc.fit(X_train, y_train)\n",
    "pred_SVM = svc.predict(X_test)\n",
    "print(\"SVR:\", rmsle(pred_SVM,y_test))\n",
    "\n",
    "# Decision Tree\n",
    "decision_tree = DecisionTreeRegressor(random_state=21)\n",
    "decision_tree.fit(X_train, y_train)\n",
    "predictions_DT = decision_tree.predict(X_test)\n",
    "print(\"Decision Tree:\", rmsle(predictions_DT,y_test))\n",
    "\n",
    "# # Neural Net\n",
    "nn = MLPRegressor(hidden_layer_sizes=(10,),  activation='relu', solver='adam',    alpha=0.001,batch_size='auto',\n",
    "              learning_rate='constant', learning_rate_init=0.01, power_t=0.5, max_iter=1000, shuffle=True,\n",
    "              random_state=None, tol=0.0001, verbose=False, warm_start=False, momentum=0.9,\n",
    "              nesterovs_momentum=True, early_stopping=False, validation_fraction=0.1, beta_1=0.9, beta_2=0.999,\n",
    "              epsilon=1e-08)\n",
    "nn.fit(X_train, y_train)\n",
    "pred_nn = nn.predict(X_test)\n",
    "print(\"NN:\", rmsle(pred_nn,y_test))\n",
    "\n",
    "# KNN\n",
    "knn = KNeighborsRegressor(n_neighbors=3)\n",
    "knn.fit(X_train,y_train)\n",
    "predictions_KNN = knn.predict(X_test)\n",
    "print(\"KNN:\", rmsle(predictions_KNN,y_test))\n",
    "\n",
    "# Random Forest\n",
    "rf = RandomForestRegressor(max_depth=2, random_state=0)\n",
    "rf.fit(X_train,y_train)\n",
    "predictions_RF = rf.predict(X_test)\n",
    "print(\"Random Forest:\", rmsle(predictions_RF,y_test))"
   ]
  },
  {
   "cell_type": "code",
   "execution_count": null,
   "metadata": {},
   "outputs": [],
   "source": []
  }
 ],
 "metadata": {
  "kernelspec": {
   "display_name": "Python 2",
   "language": "python",
   "name": "python2"
  },
  "language_info": {
   "codemirror_mode": {
    "name": "ipython",
    "version": 2
   },
   "file_extension": ".py",
   "mimetype": "text/x-python",
   "name": "python",
   "nbconvert_exporter": "python",
   "pygments_lexer": "ipython2",
   "version": "2.7.14"
  }
 },
 "nbformat": 4,
 "nbformat_minor": 2
}

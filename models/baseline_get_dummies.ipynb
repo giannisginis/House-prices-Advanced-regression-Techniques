{
 "cells": [
  {
   "cell_type": "code",
   "execution_count": 1,
   "metadata": {},
   "outputs": [],
   "source": [
    "import pandas as pd\n",
    "import numpy as np\n",
    "import matplotlib.pyplot as plt\n",
    "import seaborn as sns\n",
    "%matplotlib inline\n",
    "import pandas as pd\n",
    "import os\n",
    "os.getcwd()\n",
    "\n",
    "data =  pd.read_csv('train.csv')"
   ]
  },
  {
   "cell_type": "code",
   "execution_count": 6,
   "metadata": {},
   "outputs": [
    {
     "data": {
      "text/plain": [
       "<bound method Series.sort_values of Id                  0\n",
       "MSSubClass          0\n",
       "MSZoning            0\n",
       "LotFrontage       259\n",
       "LotArea             0\n",
       "Street              0\n",
       "Alley            1369\n",
       "LotShape            0\n",
       "LandContour         0\n",
       "Utilities           0\n",
       "LotConfig           0\n",
       "LandSlope           0\n",
       "Neighborhood        0\n",
       "Condition1          0\n",
       "Condition2          0\n",
       "BldgType            0\n",
       "HouseStyle          0\n",
       "OverallQual         0\n",
       "OverallCond         0\n",
       "YearBuilt           0\n",
       "YearRemodAdd        0\n",
       "RoofStyle           0\n",
       "RoofMatl            0\n",
       "Exterior1st         0\n",
       "Exterior2nd         0\n",
       "MasVnrType          8\n",
       "MasVnrArea          8\n",
       "ExterQual           0\n",
       "ExterCond           0\n",
       "Foundation          0\n",
       "                 ... \n",
       "BedroomAbvGr        0\n",
       "KitchenAbvGr        0\n",
       "KitchenQual         0\n",
       "TotRmsAbvGrd        0\n",
       "Functional          0\n",
       "Fireplaces          0\n",
       "FireplaceQu       690\n",
       "GarageType         81\n",
       "GarageYrBlt        81\n",
       "GarageFinish       81\n",
       "GarageCars          0\n",
       "GarageArea          0\n",
       "GarageQual         81\n",
       "GarageCond         81\n",
       "PavedDrive          0\n",
       "WoodDeckSF          0\n",
       "OpenPorchSF         0\n",
       "EnclosedPorch       0\n",
       "3SsnPorch           0\n",
       "ScreenPorch         0\n",
       "PoolArea            0\n",
       "PoolQC           1453\n",
       "Fence            1179\n",
       "MiscFeature      1406\n",
       "MiscVal             0\n",
       "MoSold              0\n",
       "YrSold              0\n",
       "SaleType            0\n",
       "SaleCondition       0\n",
       "SalePrice           0\n",
       "Length: 81, dtype: int64>"
      ]
     },
     "execution_count": 6,
     "metadata": {},
     "output_type": "execute_result"
    }
   ],
   "source": [
    "#find NaN values per column\n",
    "\n",
    "data.isna().sum().sort_values"
   ]
  },
  {
   "cell_type": "code",
   "execution_count": 7,
   "metadata": {},
   "outputs": [],
   "source": [
    "#get dummies in categorical features\n",
    "\n",
    "data2 = pd.get_dummies(data)\n",
    "\n",
    "##drop columns that have many NaN \n",
    "data2 = data2.drop('LotFrontage', axis=1)\n",
    "data2 = data2.drop('GarageYrBlt', axis=1)\n",
    "\n",
    "##fill MansVnrArea where NaN values with 0\n",
    "data2.MasVnrArea = data2.MasVnrArea.fillna(0)\n"
   ]
  },
  {
   "cell_type": "code",
   "execution_count": 8,
   "metadata": {},
   "outputs": [
    {
     "data": {
      "text/plain": [
       "<bound method Series.sort_values of Id                       0\n",
       "MSSubClass               0\n",
       "LotArea                  0\n",
       "OverallQual              0\n",
       "OverallCond              0\n",
       "YearBuilt                0\n",
       "YearRemodAdd             0\n",
       "MasVnrArea               0\n",
       "BsmtFinSF1               0\n",
       "BsmtFinSF2               0\n",
       "BsmtUnfSF                0\n",
       "TotalBsmtSF              0\n",
       "1stFlrSF                 0\n",
       "2ndFlrSF                 0\n",
       "LowQualFinSF             0\n",
       "GrLivArea                0\n",
       "BsmtFullBath             0\n",
       "BsmtHalfBath             0\n",
       "FullBath                 0\n",
       "HalfBath                 0\n",
       "BedroomAbvGr             0\n",
       "KitchenAbvGr             0\n",
       "TotRmsAbvGrd             0\n",
       "Fireplaces               0\n",
       "GarageCars               0\n",
       "GarageArea               0\n",
       "WoodDeckSF               0\n",
       "OpenPorchSF              0\n",
       "EnclosedPorch            0\n",
       "3SsnPorch                0\n",
       "                        ..\n",
       "GarageCond_TA            0\n",
       "PavedDrive_N             0\n",
       "PavedDrive_P             0\n",
       "PavedDrive_Y             0\n",
       "PoolQC_Ex                0\n",
       "PoolQC_Fa                0\n",
       "PoolQC_Gd                0\n",
       "Fence_GdPrv              0\n",
       "Fence_GdWo               0\n",
       "Fence_MnPrv              0\n",
       "Fence_MnWw               0\n",
       "MiscFeature_Gar2         0\n",
       "MiscFeature_Othr         0\n",
       "MiscFeature_Shed         0\n",
       "MiscFeature_TenC         0\n",
       "SaleType_COD             0\n",
       "SaleType_CWD             0\n",
       "SaleType_Con             0\n",
       "SaleType_ConLD           0\n",
       "SaleType_ConLI           0\n",
       "SaleType_ConLw           0\n",
       "SaleType_New             0\n",
       "SaleType_Oth             0\n",
       "SaleType_WD              0\n",
       "SaleCondition_Abnorml    0\n",
       "SaleCondition_AdjLand    0\n",
       "SaleCondition_Alloca     0\n",
       "SaleCondition_Family     0\n",
       "SaleCondition_Normal     0\n",
       "SaleCondition_Partial    0\n",
       "Length: 288, dtype: int64>"
      ]
     },
     "execution_count": 8,
     "metadata": {},
     "output_type": "execute_result"
    }
   ],
   "source": [
    "#check if there are any NaN values after the imputing \n",
    "\n",
    "data2.isna().sum().sort_values"
   ]
  },
  {
   "cell_type": "code",
   "execution_count": 9,
   "metadata": {},
   "outputs": [],
   "source": [
    "#split train and test sets for X and y\n",
    "\n",
    "from sklearn.model_selection import train_test_split\n",
    "\n",
    "y=data2['SalePrice']\n",
    "\n",
    "X=data2.drop('SalePrice', axis=1)\n",
    "\n",
    "X_train,X_test ,y_train,y_test= train_test_split(X,y,test_size=0.25,random_state=5)"
   ]
  },
  {
   "cell_type": "code",
   "execution_count": 10,
   "metadata": {},
   "outputs": [
    {
     "name": "stdout",
     "output_type": "stream",
     "text": [
      "((1095, 287), (1095L,))\n",
      "((365, 287), (365L,))\n"
     ]
    }
   ],
   "source": [
    "#shape of X and y and train and test sets\n",
    "print(X_train.shape,y_train.shape)\n",
    "\n",
    "print(X_test.shape,y_test.shape)"
   ]
  },
  {
   "cell_type": "code",
   "execution_count": 11,
   "metadata": {},
   "outputs": [
    {
     "data": {
      "text/plain": [
       "LinearRegression(copy_X=True, fit_intercept=True, n_jobs=1, normalize=False)"
      ]
     },
     "execution_count": 11,
     "metadata": {},
     "output_type": "execute_result"
    }
   ],
   "source": [
    "#train model with Linear Regression\n",
    "\n",
    "from sklearn.linear_model import LinearRegression\n",
    "\n",
    "lr = LinearRegression()  \n",
    "\n",
    "lr.fit(X_train, y_train)\n"
   ]
  },
  {
   "cell_type": "code",
   "execution_count": 12,
   "metadata": {},
   "outputs": [],
   "source": [
    "#predict SalesPrices with LinearRegression\n",
    "\n",
    "preds = lr.predict(X_test)"
   ]
  },
  {
   "cell_type": "code",
   "execution_count": 13,
   "metadata": {},
   "outputs": [],
   "source": [
    "import math\n",
    "\n",
    "#A function to calculate Root Mean Squared Logarithmic Error (RMSLE)\n",
    "def rmsle(y_pred, y_test) : \n",
    "    assert len(y_test) == len(y_pred)\n",
    "    return np.sqrt(np.mean((np.log(1+y_pred) - np.log(1+y_test))**2))\n"
   ]
  },
  {
   "cell_type": "code",
   "execution_count": 14,
   "metadata": {},
   "outputs": [
    {
     "data": {
      "text/plain": [
       "0.14973853543232002"
      ]
     },
     "execution_count": 14,
     "metadata": {},
     "output_type": "execute_result"
    }
   ],
   "source": [
    "# MlSE using LinearRegression\n",
    "\n",
    "error = rmsle(preds, y_test)\n",
    "\n",
    "error"
   ]
  },
  {
   "cell_type": "code",
   "execution_count": 15,
   "metadata": {},
   "outputs": [
    {
     "name": "stdout",
     "output_type": "stream",
     "text": [
      "('shape of Xtest after selection:', (365L, 261L))\n",
      "('shape after selection:', (1095L, 261L))\n"
     ]
    },
    {
     "name": "stderr",
     "output_type": "stream",
     "text": [
      "C:\\Users\\maria\\Anaconda2\\lib\\site-packages\\sklearn\\linear_model\\coordinate_descent.py:491: ConvergenceWarning: Objective did not converge. You might want to increase the number of iterations. Fitting data with very small alpha may cause precision problems.\n",
      "  ConvergenceWarning)\n"
     ]
    }
   ],
   "source": [
    "# feature selection using Lasso\n",
    "from sklearn.linear_model import Lasso\n",
    "from sklearn.model_selection import GridSearchCV\n",
    "\n",
    "lass = Lasso(alpha=0.5)  # alpha determines the strength of the regularization\n",
    "                          # the higer the value, the more coefficients will be zero\n",
    "lass.fit(X_train, y_train)\n",
    "\n",
    "from sklearn.feature_selection import SelectFromModel\n",
    "lasso_selector = SelectFromModel(lass, prefit=True)  # prefit because we have already trained the model\n",
    "X_selected = lasso_selector.transform(X_train) \n",
    "X_testl = lasso_selector.transform(X_test)\n",
    "# plain transform because model is already fit\n",
    "print('shape of Xtest after selection:', X_testl.shape)\n",
    "print('shape after selection:', X_selected.shape)\n"
   ]
  },
  {
   "cell_type": "code",
   "execution_count": 16,
   "metadata": {},
   "outputs": [],
   "source": [
    "# prediction with LinearRegression after feature selection using Lasso\n",
    "\n",
    "lr.fit(X_selected, y_train)\n",
    "preds1 = lr.predict(X_testl)\n"
   ]
  },
  {
   "cell_type": "code",
   "execution_count": 17,
   "metadata": {},
   "outputs": [
    {
     "data": {
      "text/plain": [
       "0.14927553329461699"
      ]
     },
     "execution_count": 17,
     "metadata": {},
     "output_type": "execute_result"
    }
   ],
   "source": [
    "# error after Lasso\n",
    "error = rmsle(preds1, y_test)\n",
    "\n",
    "error"
   ]
  },
  {
   "cell_type": "code",
   "execution_count": 18,
   "metadata": {},
   "outputs": [
    {
     "name": "stdout",
     "output_type": "stream",
     "text": [
      "('LR:', 0.14973853543232002)\n",
      "('SVR:', 0.4076445132324007)\n",
      "('Decision Tree:', 0.21727675307494657)\n",
      "('NN:', 0.2157577700229097)\n",
      "('KNN:', 0.2324149598376215)\n",
      "('Random Forest:', 0.2725554687316167)\n"
     ]
    }
   ],
   "source": [
    "## predict SalePrice usin LR, SVM, Decision Tree, Neural Net, KNN, Random Forest without Lasso\n",
    "\n",
    "from sklearn.tree import DecisionTreeRegressor\n",
    "from sklearn.svm import SVR\n",
    "from sklearn import linear_model\n",
    "from sklearn.neighbors import KNeighborsRegressor\n",
    "from sklearn.metrics import accuracy_score, mean_squared_error\n",
    "from sklearn.ensemble import RandomForestRegressor\n",
    "from sklearn.neural_network import MLPRegressor\n",
    "from math import sqrt\n",
    "\n",
    "#LR\n",
    "reg =linear_model.LinearRegression()\n",
    "reg.fit(X_train, y_train)\n",
    "pred_LR = reg.predict(X_test)\n",
    "print(\"LR:\", rmsle(pred_LR,y_test))\n",
    "\n",
    "# SVM\n",
    "svc=SVR(C=1.0, epsilon=0.2)\n",
    "svc.fit(X_train, y_train)\n",
    "pred_SVM = svc.predict(X_test)\n",
    "print(\"SVR:\", rmsle(pred_SVM,y_test))\n",
    "\n",
    "# Decision Tree\n",
    "decision_tree = DecisionTreeRegressor(random_state=21)\n",
    "decision_tree.fit(X_train, y_train)\n",
    "predictions_DT = decision_tree.predict(X_test)\n",
    "print(\"Decision Tree:\", rmsle(predictions_DT,y_test))\n",
    "\n",
    "# # Neural Net\n",
    "nn = MLPRegressor(hidden_layer_sizes=(10,),  activation='relu', solver='adam',    alpha=0.001,batch_size='auto',\n",
    "              learning_rate='constant', learning_rate_init=0.01, power_t=0.5, max_iter=1000, shuffle=True,\n",
    "              random_state=None, tol=0.0001, verbose=False, warm_start=False, momentum=0.9,\n",
    "              nesterovs_momentum=True, early_stopping=False, validation_fraction=0.1, beta_1=0.9, beta_2=0.999,\n",
    "              epsilon=1e-08)\n",
    "nn.fit(X_train, y_train)\n",
    "pred_nn = nn.predict(X_test)\n",
    "print(\"NN:\", rmsle(pred_nn,y_test))\n",
    "\n",
    "# KNN\n",
    "knn = KNeighborsRegressor(n_neighbors=3)\n",
    "knn.fit(X_train,y_train)\n",
    "predictions_KNN = knn.predict(X_test)\n",
    "print(\"KNN:\", rmsle(predictions_KNN,y_test))\n",
    "\n",
    "# Random Forest\n",
    "rf = RandomForestRegressor(max_depth=2, random_state=0)\n",
    "rf.fit(X_train,y_train)\n",
    "predictions_RF = rf.predict(X_test)\n",
    "print(\"Random Forest:\", rmsle(predictions_RF,y_test))"
   ]
  },
  {
   "cell_type": "code",
   "execution_count": 19,
   "metadata": {},
   "outputs": [
    {
     "name": "stdout",
     "output_type": "stream",
     "text": [
      "('LR:', 0.14927553329461699)\n",
      "('SVR:', 0.4076445132729237)\n",
      "('Decision Tree:', 0.2031993951042532)\n",
      "('NN:', 0.25125246092718606)\n",
      "('KNN:', 0.2324149598376215)\n",
      "('Random Forest:', 0.2725554687316167)\n"
     ]
    }
   ],
   "source": [
    "## predict SalePrice usin LR, SVM, Decision Tree, Neural Net, KNN, Random Forest after Lasso\n",
    "\n",
    "#LR\n",
    "reg =linear_model.LinearRegression()\n",
    "reg.fit(X_selected, y_train)\n",
    "pred_LR = reg.predict(X_testl)\n",
    "print(\"LR:\", rmsle(pred_LR,y_test))\n",
    "\n",
    "# SVM\n",
    "svc=SVR(C=1.0, epsilon=0.2)\n",
    "svc.fit(X_selected, y_train)\n",
    "pred_SVM = svc.predict(X_testl)\n",
    "print(\"SVR:\", rmsle(pred_SVM,y_test))\n",
    "\n",
    "# Decision Tree\n",
    "decision_tree = DecisionTreeRegressor(random_state=21)\n",
    "decision_tree.fit(X_selected, y_train)\n",
    "predictions_DT = decision_tree.predict(X_testl)\n",
    "print(\"Decision Tree:\", rmsle(predictions_DT,y_test))\n",
    "\n",
    "# # Neural Net\n",
    "nn = MLPRegressor(hidden_layer_sizes=(10,),  activation='relu', solver='adam',    alpha=0.001,batch_size='auto',\n",
    "              learning_rate='constant', learning_rate_init=0.01, power_t=0.5, max_iter=1000, shuffle=True,\n",
    "              random_state=None, tol=0.0001, verbose=False, warm_start=False, momentum=0.9,\n",
    "              nesterovs_momentum=True, early_stopping=False, validation_fraction=0.1, beta_1=0.9, beta_2=0.999,\n",
    "              epsilon=1e-08)\n",
    "nn.fit(X_selected, y_train)\n",
    "pred_nn = nn.predict(X_testl)\n",
    "print(\"NN:\", rmsle(pred_nn,y_test))\n",
    "\n",
    "# KNN\n",
    "knn = KNeighborsRegressor(n_neighbors=3)\n",
    "knn.fit(X_selected,y_train)\n",
    "predictions_KNN = knn.predict(X_testl)\n",
    "print(\"KNN:\", rmsle(predictions_KNN,y_test))\n",
    "\n",
    "# Random Forest\n",
    "rf = RandomForestRegressor(max_depth=2, random_state=0)\n",
    "rf.fit(X_selected,y_train)\n",
    "predictions_RF = rf.predict(X_testl)\n",
    "print(\"Random Forest:\", rmsle(predictions_RF,y_test))"
   ]
  },
  {
   "cell_type": "code",
   "execution_count": 20,
   "metadata": {},
   "outputs": [
    {
     "data": {
      "text/plain": [
       "0.13223814796772418"
      ]
     },
     "execution_count": 20,
     "metadata": {},
     "output_type": "execute_result"
    }
   ],
   "source": [
    "from sklearn import linear_model\n",
    "from sklearn.model_selection import GridSearchCV\n",
    "\n",
    "lass = linear_model.Lasso()\n",
    "\n",
    "grid = [{'alpha':np.arange(0.01, 1.0, 0.01)}]\n",
    "\n",
    "reg = GridSearchCV(lass, grid, cv=5)\n",
    "\n",
    "reg.fit(X_train,y_train)\n",
    "preds_lasso = reg.predict(X_test)\n",
    "\n",
    "error = rmsle(preds_lasso,y_test)\n",
    "\n",
    "error\n",
    "\n",
    "# # reg.best_estimator_"
   ]
  },
  {
   "cell_type": "code",
   "execution_count": 21,
   "metadata": {},
   "outputs": [],
   "source": [
    "from sklearn.ensemble import RandomForestRegressor, ExtraTreesRegressor, GradientBoostingRegressor\n",
    "\n",
    "def model_extra_trees_regression(Xtrain,Xtest,ytrain,y_test):\n",
    "    \n",
    "    X_train = Xtrain\n",
    "    y_train = ytrain\n",
    "    \n",
    "    etr = ExtraTreesRegressor(n_jobs=1, random_state=77)\n",
    "    param_grid = {'max_features': [0.01,1,5]}\n",
    "    model = GridSearchCV(estimator=etr, param_grid=param_grid, n_jobs=1, cv=10)\n",
    "    model.fit(X_train, y_train)\n",
    "    print('Extra trees regression...')\n",
    "    print('Best Params:')\n",
    "    print(model.best_params_)\n",
    "    #print('Best CV Score:')\n",
    "    #print(-model.best_score_)\n",
    "\n",
    "    y_pred = model.predict(Xtest)\n",
    "    return  rmsle(y_pred,y_test)"
   ]
  },
  {
   "cell_type": "code",
   "execution_count": 22,
   "metadata": {},
   "outputs": [
    {
     "name": "stdout",
     "output_type": "stream",
     "text": [
      "Extra trees regression...\n",
      "Best Params:\n",
      "{'max_features': 5}\n"
     ]
    },
    {
     "data": {
      "text/plain": [
       "0.20664001071824753"
      ]
     },
     "execution_count": 22,
     "metadata": {},
     "output_type": "execute_result"
    }
   ],
   "source": [
    "model_extra_trees_regression(X_train,X_test,y_train,y_test)"
   ]
  },
  {
   "cell_type": "code",
   "execution_count": null,
   "metadata": {},
   "outputs": [],
   "source": []
  }
 ],
 "metadata": {
  "kernelspec": {
   "display_name": "Python 2",
   "language": "python",
   "name": "python2"
  },
  "language_info": {
   "codemirror_mode": {
    "name": "ipython",
    "version": 2
   },
   "file_extension": ".py",
   "mimetype": "text/x-python",
   "name": "python",
   "nbconvert_exporter": "python",
   "pygments_lexer": "ipython2",
   "version": "2.7.14"
  }
 },
 "nbformat": 4,
 "nbformat_minor": 2
}
